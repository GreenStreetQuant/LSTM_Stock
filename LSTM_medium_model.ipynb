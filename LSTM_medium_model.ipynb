{
  "nbformat": 4,
  "nbformat_minor": 0,
  "metadata": {
    "colab": {
      "name": "LSTM_medium_model.ipynb",
      "provenance": [],
      "machine_shape": "hm",
      "authorship_tag": "ABX9TyMgzoQyESokdhpfIRTSNx2P",
      "include_colab_link": true
    },
    "kernelspec": {
      "name": "python3",
      "display_name": "Python 3"
    },
    "accelerator": "GPU"
  },
  "cells": [
    {
      "cell_type": "markdown",
      "metadata": {
        "id": "view-in-github",
        "colab_type": "text"
      },
      "source": [
        "<a href=\"https://colab.research.google.com/github/GreenStreetQuant/LSTM_Stock/blob/master/LSTM_medium_model.ipynb\" target=\"_parent\"><img src=\"https://colab.research.google.com/assets/colab-badge.svg\" alt=\"Open In Colab\"/></a>"
      ]
    },
    {
      "cell_type": "code",
      "metadata": {
        "id": "7JvD9x0hhaG_",
        "colab_type": "code",
        "outputId": "ca418dea-3660-4175-d55f-3e797609df85",
        "colab": {
          "base_uri": "https://localhost:8080/",
          "height": 377
        }
      },
      "source": [
        "pip install yfinance"
      ],
      "execution_count": 0,
      "outputs": [
        {
          "output_type": "stream",
          "text": [
            "Collecting yfinance\n",
            "  Downloading https://files.pythonhosted.org/packages/c2/31/8b374a12b90def92a4e27d0fc595fc43635f395984e36a075244d98bd265/yfinance-0.1.54.tar.gz\n",
            "Requirement already satisfied: pandas>=0.24 in /usr/local/lib/python3.6/dist-packages (from yfinance) (1.0.3)\n",
            "Requirement already satisfied: numpy>=1.15 in /usr/local/lib/python3.6/dist-packages (from yfinance) (1.18.4)\n",
            "Requirement already satisfied: requests>=2.20 in /usr/local/lib/python3.6/dist-packages (from yfinance) (2.23.0)\n",
            "Requirement already satisfied: multitasking>=0.0.7 in /usr/local/lib/python3.6/dist-packages (from yfinance) (0.0.9)\n",
            "Requirement already satisfied: python-dateutil>=2.6.1 in /usr/local/lib/python3.6/dist-packages (from pandas>=0.24->yfinance) (2.8.1)\n",
            "Requirement already satisfied: pytz>=2017.2 in /usr/local/lib/python3.6/dist-packages (from pandas>=0.24->yfinance) (2018.9)\n",
            "Requirement already satisfied: urllib3!=1.25.0,!=1.25.1,<1.26,>=1.21.1 in /usr/local/lib/python3.6/dist-packages (from requests>=2.20->yfinance) (1.24.3)\n",
            "Requirement already satisfied: idna<3,>=2.5 in /usr/local/lib/python3.6/dist-packages (from requests>=2.20->yfinance) (2.9)\n",
            "Requirement already satisfied: certifi>=2017.4.17 in /usr/local/lib/python3.6/dist-packages (from requests>=2.20->yfinance) (2020.4.5.1)\n",
            "Requirement already satisfied: chardet<4,>=3.0.2 in /usr/local/lib/python3.6/dist-packages (from requests>=2.20->yfinance) (3.0.4)\n",
            "Requirement already satisfied: six>=1.5 in /usr/local/lib/python3.6/dist-packages (from python-dateutil>=2.6.1->pandas>=0.24->yfinance) (1.12.0)\n",
            "Building wheels for collected packages: yfinance\n",
            "  Building wheel for yfinance (setup.py) ... \u001b[?25l\u001b[?25hdone\n",
            "  Created wheel for yfinance: filename=yfinance-0.1.54-py2.py3-none-any.whl size=22409 sha256=e328460ecf79e08207f5eb2aef964e873729a0685edfed6651961e0b2ef522cb\n",
            "  Stored in directory: /root/.cache/pip/wheels/f9/e3/5b/ec24dd2984b12d61e0abf26289746c2436a0e7844f26f2515c\n",
            "Successfully built yfinance\n",
            "Installing collected packages: yfinance\n",
            "Successfully installed yfinance-0.1.54\n"
          ],
          "name": "stdout"
        }
      ]
    },
    {
      "cell_type": "code",
      "metadata": {
        "id": "D6mZ9J84g8bT",
        "colab_type": "code",
        "outputId": "fa77fd15-3a99-41ae-aba9-6934bbfc69c7",
        "colab": {
          "base_uri": "https://localhost:8080/",
          "height": 34
        }
      },
      "source": [
        "import numpy as np\n",
        "import pandas as pd\n",
        "import yfinance as yf\n",
        "import matplotlib.pyplot as plt\n",
        "from google.colab import files\n",
        "from sklearn.preprocessing import MinMaxScaler\n",
        "\n",
        "plt.style.use('fivethirtyeight')\n",
        "plt.rcParams['axes.labelsize'] = 14\n",
        "plt.rcParams['xtick.labelsize'] = 12\n",
        "plt.rcParams['ytick.labelsize'] = 12\n",
        "plt.rcParams['text.color'] = 'k'\n",
        "\n",
        "%tensorflow_version 2.x\n",
        "import tensorflow as tf\n",
        "device_name = tf.test.gpu_device_name()\n",
        "if device_name != '/device:GPU:0':\n",
        "  raise SystemError('GPU device not found')\n",
        "print('Found GPU at: {}'.format(device_name))"
      ],
      "execution_count": 0,
      "outputs": [
        {
          "output_type": "stream",
          "text": [
            "Found GPU at: /device:GPU:0\n"
          ],
          "name": "stdout"
        }
      ]
    },
    {
      "cell_type": "code",
      "metadata": {
        "id": "YQ_m3wY1hhKI",
        "colab_type": "code",
        "outputId": "c4f7ed99-579c-44e0-9765-a1cdfc0763fd",
        "colab": {
          "base_uri": "https://localhost:8080/",
          "height": 467
        }
      },
      "source": [
        "#using yahoo to fetch the data for RNG\n",
        "rng = yf.download(\"RNG\", period='max', interval='1d')\n",
        "rng"
      ],
      "execution_count": 0,
      "outputs": [
        {
          "output_type": "stream",
          "text": [
            "\r[*********************100%***********************]  1 of 1 completed\n"
          ],
          "name": "stdout"
        },
        {
          "output_type": "execute_result",
          "data": {
            "text/html": [
              "<div>\n",
              "<style scoped>\n",
              "    .dataframe tbody tr th:only-of-type {\n",
              "        vertical-align: middle;\n",
              "    }\n",
              "\n",
              "    .dataframe tbody tr th {\n",
              "        vertical-align: top;\n",
              "    }\n",
              "\n",
              "    .dataframe thead th {\n",
              "        text-align: right;\n",
              "    }\n",
              "</style>\n",
              "<table border=\"1\" class=\"dataframe\">\n",
              "  <thead>\n",
              "    <tr style=\"text-align: right;\">\n",
              "      <th></th>\n",
              "      <th>Open</th>\n",
              "      <th>High</th>\n",
              "      <th>Low</th>\n",
              "      <th>Close</th>\n",
              "      <th>Adj Close</th>\n",
              "      <th>Volume</th>\n",
              "    </tr>\n",
              "    <tr>\n",
              "      <th>Date</th>\n",
              "      <th></th>\n",
              "      <th></th>\n",
              "      <th></th>\n",
              "      <th></th>\n",
              "      <th></th>\n",
              "      <th></th>\n",
              "    </tr>\n",
              "  </thead>\n",
              "  <tbody>\n",
              "    <tr>\n",
              "      <th>2013-09-27</th>\n",
              "      <td>17.250000</td>\n",
              "      <td>19.400000</td>\n",
              "      <td>17.100000</td>\n",
              "      <td>18.200001</td>\n",
              "      <td>18.200001</td>\n",
              "      <td>8127600</td>\n",
              "    </tr>\n",
              "    <tr>\n",
              "      <th>2013-09-30</th>\n",
              "      <td>17.980000</td>\n",
              "      <td>18.440001</td>\n",
              "      <td>17.570000</td>\n",
              "      <td>18.020000</td>\n",
              "      <td>18.020000</td>\n",
              "      <td>774900</td>\n",
              "    </tr>\n",
              "    <tr>\n",
              "      <th>2013-10-01</th>\n",
              "      <td>18.290001</td>\n",
              "      <td>18.290001</td>\n",
              "      <td>16.700001</td>\n",
              "      <td>17.080000</td>\n",
              "      <td>17.080000</td>\n",
              "      <td>610500</td>\n",
              "    </tr>\n",
              "    <tr>\n",
              "      <th>2013-10-02</th>\n",
              "      <td>17.190001</td>\n",
              "      <td>17.280001</td>\n",
              "      <td>16.299999</td>\n",
              "      <td>17.000000</td>\n",
              "      <td>17.000000</td>\n",
              "      <td>840800</td>\n",
              "    </tr>\n",
              "    <tr>\n",
              "      <th>2013-10-03</th>\n",
              "      <td>16.820000</td>\n",
              "      <td>17.540001</td>\n",
              "      <td>16.520000</td>\n",
              "      <td>16.910000</td>\n",
              "      <td>16.910000</td>\n",
              "      <td>145600</td>\n",
              "    </tr>\n",
              "    <tr>\n",
              "      <th>...</th>\n",
              "      <td>...</td>\n",
              "      <td>...</td>\n",
              "      <td>...</td>\n",
              "      <td>...</td>\n",
              "      <td>...</td>\n",
              "      <td>...</td>\n",
              "    </tr>\n",
              "    <tr>\n",
              "      <th>2020-05-11</th>\n",
              "      <td>262.000000</td>\n",
              "      <td>276.609985</td>\n",
              "      <td>261.359985</td>\n",
              "      <td>275.029999</td>\n",
              "      <td>275.029999</td>\n",
              "      <td>1284900</td>\n",
              "    </tr>\n",
              "    <tr>\n",
              "      <th>2020-05-12</th>\n",
              "      <td>276.000000</td>\n",
              "      <td>283.230011</td>\n",
              "      <td>269.940002</td>\n",
              "      <td>278.799988</td>\n",
              "      <td>278.799988</td>\n",
              "      <td>1341000</td>\n",
              "    </tr>\n",
              "    <tr>\n",
              "      <th>2020-05-13</th>\n",
              "      <td>278.799988</td>\n",
              "      <td>288.920013</td>\n",
              "      <td>271.390015</td>\n",
              "      <td>283.000000</td>\n",
              "      <td>283.000000</td>\n",
              "      <td>2415200</td>\n",
              "    </tr>\n",
              "    <tr>\n",
              "      <th>2020-05-14</th>\n",
              "      <td>280.609985</td>\n",
              "      <td>282.940002</td>\n",
              "      <td>270.570007</td>\n",
              "      <td>271.549988</td>\n",
              "      <td>271.549988</td>\n",
              "      <td>1622400</td>\n",
              "    </tr>\n",
              "    <tr>\n",
              "      <th>2020-05-15</th>\n",
              "      <td>271.730011</td>\n",
              "      <td>290.500000</td>\n",
              "      <td>270.200012</td>\n",
              "      <td>285.850006</td>\n",
              "      <td>285.850006</td>\n",
              "      <td>1291900</td>\n",
              "    </tr>\n",
              "  </tbody>\n",
              "</table>\n",
              "<p>1670 rows × 6 columns</p>\n",
              "</div>"
            ],
            "text/plain": [
              "                  Open        High         Low       Close   Adj Close   Volume\n",
              "Date                                                                           \n",
              "2013-09-27   17.250000   19.400000   17.100000   18.200001   18.200001  8127600\n",
              "2013-09-30   17.980000   18.440001   17.570000   18.020000   18.020000   774900\n",
              "2013-10-01   18.290001   18.290001   16.700001   17.080000   17.080000   610500\n",
              "2013-10-02   17.190001   17.280001   16.299999   17.000000   17.000000   840800\n",
              "2013-10-03   16.820000   17.540001   16.520000   16.910000   16.910000   145600\n",
              "...                ...         ...         ...         ...         ...      ...\n",
              "2020-05-11  262.000000  276.609985  261.359985  275.029999  275.029999  1284900\n",
              "2020-05-12  276.000000  283.230011  269.940002  278.799988  278.799988  1341000\n",
              "2020-05-13  278.799988  288.920013  271.390015  283.000000  283.000000  2415200\n",
              "2020-05-14  280.609985  282.940002  270.570007  271.549988  271.549988  1622400\n",
              "2020-05-15  271.730011  290.500000  270.200012  285.850006  285.850006  1291900\n",
              "\n",
              "[1670 rows x 6 columns]"
            ]
          },
          "metadata": {
            "tags": []
          },
          "execution_count": 75
        }
      ]
    },
    {
      "cell_type": "code",
      "metadata": {
        "id": "mUhKKc-aiElH",
        "colab_type": "code",
        "colab": {}
      },
      "source": [
        "#splitting the data by training & testing \n",
        "#only interested in the Close column\n",
        "total_price = rng['Close']\n",
        "training_price = total_price.loc[rng.index[:1620]]\n",
        "testing_price = total_price.loc[rng.index[1620:]]\n",
        "\n",
        "#converting the training data to array\n",
        "price_array = np.array(training_price).reshape((len(training_price), 1))"
      ],
      "execution_count": 0,
      "outputs": []
    },
    {
      "cell_type": "code",
      "metadata": {
        "id": "LZQmDE1TkUyX",
        "colab_type": "code",
        "colab": {}
      },
      "source": [
        "#scaling the training data for optimal performance\n",
        "scaler = MinMaxScaler(feature_range=(0,1))\n",
        "\n",
        "rng_training_scaled = scaler.fit_transform(price_array)"
      ],
      "execution_count": 0,
      "outputs": []
    },
    {
      "cell_type": "code",
      "metadata": {
        "id": "y0Cy09CKkjON",
        "colab_type": "code",
        "outputId": "46a239fb-c23f-48c4-84d5-9fecf811dada",
        "colab": {
          "base_uri": "https://localhost:8080/",
          "height": 34
        }
      },
      "source": [
        "#converting to 3D array with 60 timesteps \n",
        "#from the training data, assigning features & labels\n",
        "features_set = []\n",
        "labels = []\n",
        "for i in range(60, 1620):\n",
        "  features_set.append(rng_training_scaled[i-60:i, 0])\n",
        "  labels.append(rng_training_scaled[i, 0])\n",
        "features_set, labels = np.array(features_set), np.array(labels)\n",
        "features_set = np.reshape(features_set, (features_set.shape[0], features_set.shape[1], 1))\n",
        "features_set.shape\n"
      ],
      "execution_count": 0,
      "outputs": [
        {
          "output_type": "execute_result",
          "data": {
            "text/plain": [
              "(1560, 60, 1)"
            ]
          },
          "metadata": {
            "tags": []
          },
          "execution_count": 102
        }
      ]
    },
    {
      "cell_type": "code",
      "metadata": {
        "id": "5MdZ1Ujzlo4X",
        "colab_type": "code",
        "colab": {}
      },
      "source": [
        "from keras.layers import LSTM\n",
        "from keras.layers import Dense \n",
        "from keras.layers import Dropout\n",
        "from keras.models import Sequential\n",
        "\n",
        "#building the model with 50 units for the output space\n",
        "#dropping 20% of the layers \n",
        "#loss set to mean_squarred_error\n",
        "#fitting the model to run 50 epochs with a batch size of 32\n",
        "#metrics set to mae & acc\n",
        "model = Sequential()\n",
        "model.add(LSTM(50, return_sequences=True, input_shape=(features_set.shape[1], 1)))\n",
        "model.add(Dropout(0.2))\n",
        "model.add(LSTM(50, return_sequences=True))\n",
        "model.add(Dropout(0.2))\n",
        "model.add(LSTM(50, return_sequences=True))\n",
        "model.add(Dropout(0.2))\n",
        "model.add(LSTM(50))\n",
        "model.add(Dropout(0.2))\n",
        "model.add(Dense(units=1))\n",
        "\n",
        "model.compile(optimizer='adam', loss='mse', metrics=['mae', 'acc'])"
      ],
      "execution_count": 0,
      "outputs": []
    },
    {
      "cell_type": "code",
      "metadata": {
        "id": "GW1QYYqqnj0B",
        "colab_type": "code",
        "outputId": "d77fb365-efa9-49ae-ca5d-ce1d5ad0d305",
        "colab": {
          "base_uri": "https://localhost:8080/",
          "height": 1000
        }
      },
      "source": [
        "model.fit(features_set, labels, epochs=50, batch_size=32)"
      ],
      "execution_count": 0,
      "outputs": [
        {
          "output_type": "stream",
          "text": [
            "Epoch 1/50\n",
            "1560/1560 [==============================] - 25s 16ms/step - loss: 0.0052 - mae: 0.0401 - acc: 0.0013\n",
            "Epoch 2/50\n",
            "1560/1560 [==============================] - 24s 15ms/step - loss: 0.0014 - mae: 0.0219 - acc: 0.0013\n",
            "Epoch 3/50\n",
            "1560/1560 [==============================] - 24s 15ms/step - loss: 0.0017 - mae: 0.0231 - acc: 0.0013\n",
            "Epoch 4/50\n",
            "1560/1560 [==============================] - 24s 15ms/step - loss: 0.0015 - mae: 0.0219 - acc: 0.0013\n",
            "Epoch 5/50\n",
            "1560/1560 [==============================] - 24s 15ms/step - loss: 0.0016 - mae: 0.0244 - acc: 0.0013\n",
            "Epoch 6/50\n",
            "1560/1560 [==============================] - 24s 15ms/step - loss: 0.0014 - mae: 0.0225 - acc: 0.0013\n",
            "Epoch 7/50\n",
            "1560/1560 [==============================] - 24s 15ms/step - loss: 0.0013 - mae: 0.0233 - acc: 0.0013\n",
            "Epoch 8/50\n",
            "1560/1560 [==============================] - 24s 15ms/step - loss: 0.0011 - mae: 0.0195 - acc: 0.0013\n",
            "Epoch 9/50\n",
            "1560/1560 [==============================] - 24s 15ms/step - loss: 0.0013 - mae: 0.0231 - acc: 0.0013\n",
            "Epoch 10/50\n",
            "1560/1560 [==============================] - 24s 15ms/step - loss: 0.0012 - mae: 0.0194 - acc: 0.0013\n",
            "Epoch 11/50\n",
            "1560/1560 [==============================] - 24s 15ms/step - loss: 0.0015 - mae: 0.0233 - acc: 0.0013\n",
            "Epoch 12/50\n",
            "1560/1560 [==============================] - 24s 15ms/step - loss: 0.0011 - mae: 0.0199 - acc: 0.0013\n",
            "Epoch 13/50\n",
            "1560/1560 [==============================] - 24s 15ms/step - loss: 0.0011 - mae: 0.0193 - acc: 0.0013\n",
            "Epoch 14/50\n",
            "1560/1560 [==============================] - 24s 15ms/step - loss: 0.0012 - mae: 0.0216 - acc: 0.0013\n",
            "Epoch 15/50\n",
            "1560/1560 [==============================] - 24s 15ms/step - loss: 0.0011 - mae: 0.0194 - acc: 0.0013\n",
            "Epoch 16/50\n",
            "1560/1560 [==============================] - 24s 15ms/step - loss: 0.0015 - mae: 0.0225 - acc: 0.0013\n",
            "Epoch 17/50\n",
            "1560/1560 [==============================] - 24s 15ms/step - loss: 0.0012 - mae: 0.0222 - acc: 0.0013\n",
            "Epoch 18/50\n",
            "1560/1560 [==============================] - 24s 15ms/step - loss: 9.5015e-04 - mae: 0.0180 - acc: 0.0013\n",
            "Epoch 19/50\n",
            "1560/1560 [==============================] - 24s 15ms/step - loss: 0.0010 - mae: 0.0195 - acc: 0.0013\n",
            "Epoch 20/50\n",
            "1560/1560 [==============================] - 24s 15ms/step - loss: 9.6004e-04 - mae: 0.0172 - acc: 0.0013\n",
            "Epoch 21/50\n",
            "1560/1560 [==============================] - 24s 15ms/step - loss: 0.0011 - mae: 0.0187 - acc: 0.0013\n",
            "Epoch 22/50\n",
            "1560/1560 [==============================] - 24s 15ms/step - loss: 9.8077e-04 - mae: 0.0190 - acc: 0.0013\n",
            "Epoch 23/50\n",
            "1560/1560 [==============================] - 24s 15ms/step - loss: 9.5887e-04 - mae: 0.0182 - acc: 0.0013\n",
            "Epoch 24/50\n",
            "1560/1560 [==============================] - 24s 15ms/step - loss: 9.0070e-04 - mae: 0.0181 - acc: 0.0013\n",
            "Epoch 25/50\n",
            "1560/1560 [==============================] - 24s 15ms/step - loss: 0.0011 - mae: 0.0193 - acc: 0.0013\n",
            "Epoch 26/50\n",
            "1560/1560 [==============================] - 24s 15ms/step - loss: 9.9306e-04 - mae: 0.0182 - acc: 0.0013\n",
            "Epoch 27/50\n",
            "1560/1560 [==============================] - 24s 15ms/step - loss: 8.6249e-04 - mae: 0.0179 - acc: 0.0013\n",
            "Epoch 28/50\n",
            "1560/1560 [==============================] - 24s 15ms/step - loss: 9.0351e-04 - mae: 0.0184 - acc: 0.0013\n",
            "Epoch 29/50\n",
            "1560/1560 [==============================] - 24s 15ms/step - loss: 8.9073e-04 - mae: 0.0180 - acc: 0.0013\n",
            "Epoch 30/50\n",
            "1560/1560 [==============================] - 24s 15ms/step - loss: 8.7122e-04 - mae: 0.0178 - acc: 0.0013\n",
            "Epoch 31/50\n",
            "1560/1560 [==============================] - 24s 15ms/step - loss: 8.5169e-04 - mae: 0.0186 - acc: 0.0013\n",
            "Epoch 32/50\n",
            "1560/1560 [==============================] - 24s 15ms/step - loss: 9.4752e-04 - mae: 0.0181 - acc: 0.0013\n",
            "Epoch 33/50\n",
            "1560/1560 [==============================] - 24s 15ms/step - loss: 7.0902e-04 - mae: 0.0164 - acc: 0.0013\n",
            "Epoch 34/50\n",
            "1560/1560 [==============================] - 24s 15ms/step - loss: 9.5685e-04 - mae: 0.0193 - acc: 0.0013\n",
            "Epoch 35/50\n",
            "1560/1560 [==============================] - 24s 15ms/step - loss: 8.3510e-04 - mae: 0.0178 - acc: 0.0013\n",
            "Epoch 36/50\n",
            "1560/1560 [==============================] - 24s 15ms/step - loss: 8.2342e-04 - mae: 0.0170 - acc: 0.0013\n",
            "Epoch 37/50\n",
            "1560/1560 [==============================] - 24s 15ms/step - loss: 7.9696e-04 - mae: 0.0170 - acc: 0.0013\n",
            "Epoch 38/50\n",
            "1560/1560 [==============================] - 24s 15ms/step - loss: 9.3694e-04 - mae: 0.0178 - acc: 0.0013\n",
            "Epoch 39/50\n",
            "1560/1560 [==============================] - 24s 15ms/step - loss: 7.5970e-04 - mae: 0.0168 - acc: 0.0013\n",
            "Epoch 40/50\n",
            "1560/1560 [==============================] - 24s 15ms/step - loss: 8.6303e-04 - mae: 0.0178 - acc: 0.0013\n",
            "Epoch 41/50\n",
            "1560/1560 [==============================] - 24s 15ms/step - loss: 8.1873e-04 - mae: 0.0172 - acc: 0.0013\n",
            "Epoch 42/50\n",
            "1560/1560 [==============================] - 24s 15ms/step - loss: 9.0636e-04 - mae: 0.0185 - acc: 0.0013\n",
            "Epoch 43/50\n",
            "1560/1560 [==============================] - 24s 15ms/step - loss: 7.5261e-04 - mae: 0.0172 - acc: 0.0013\n",
            "Epoch 44/50\n",
            "1560/1560 [==============================] - 24s 15ms/step - loss: 7.0020e-04 - mae: 0.0162 - acc: 0.0013\n",
            "Epoch 45/50\n",
            "1560/1560 [==============================] - 24s 15ms/step - loss: 8.2295e-04 - mae: 0.0169 - acc: 0.0013\n",
            "Epoch 46/50\n",
            "1560/1560 [==============================] - 24s 15ms/step - loss: 6.6511e-04 - mae: 0.0164 - acc: 0.0013\n",
            "Epoch 47/50\n",
            "1560/1560 [==============================] - 24s 15ms/step - loss: 7.1145e-04 - mae: 0.0171 - acc: 0.0013\n",
            "Epoch 48/50\n",
            "1560/1560 [==============================] - 24s 15ms/step - loss: 6.7008e-04 - mae: 0.0161 - acc: 0.0013\n",
            "Epoch 49/50\n",
            "1560/1560 [==============================] - 24s 15ms/step - loss: 6.8912e-04 - mae: 0.0159 - acc: 0.0013\n",
            "Epoch 50/50\n",
            "1560/1560 [==============================] - 24s 15ms/step - loss: 7.2683e-04 - mae: 0.0168 - acc: 0.0013\n"
          ],
          "name": "stdout"
        },
        {
          "output_type": "execute_result",
          "data": {
            "text/plain": [
              "<keras.callbacks.callbacks.History at 0x7f40ce472160>"
            ]
          },
          "metadata": {
            "tags": []
          },
          "execution_count": 83
        }
      ]
    },
    {
      "cell_type": "code",
      "metadata": {
        "id": "HjHZnvzbW_oI",
        "colab_type": "code",
        "colab": {}
      },
      "source": [
        "model.save_weights('rng_prediction_50_0.2_50_0.2_50_0.2_50_0.2_50.h5')"
      ],
      "execution_count": 0,
      "outputs": []
    },
    {
      "cell_type": "code",
      "metadata": {
        "id": "CnAq2ZMSuTvv",
        "colab_type": "code",
        "outputId": "659225ea-42e6-4b52-8f33-27946164bb10",
        "colab": {
          "base_uri": "https://localhost:8080/",
          "height": 418
        }
      },
      "source": [
        "#merging the training set with the testing set\n",
        "#setting the time step as 60\n",
        "#MinMaxScaler to transform data set with test&train\n",
        "test_inputs_total = pd.concat((training_price, testing_price), axis=0)\n",
        "test_inputs = test_inputs_total[len(test_inputs_total) - len(testing_price) - 60:].values\n",
        "test_inputs = test_inputs.reshape(-1,1)\n",
        "test_inputs = scaler.transform(test_inputs)\n",
        "\n",
        "#aquiring the test features\n",
        "test_features = []\n",
        "for i in range(60, 110):\n",
        "    test_features.append(test_inputs[i-60:i, 0])\n",
        "test_features = np.array(test_features)\n",
        "test_features = np.reshape(test_features, (test_features.shape[0], test_features.shape[1], 1))\n",
        "\n",
        "#now predicting the model \n",
        "predictions = model.predict(test_features)\n",
        "\n",
        "#need to scale data back\n",
        "predictions = scaler.inverse_transform(predictions)\n",
        "\n",
        "plt.figure(figsize=(10,6))\n",
        "plt.plot(testing_price.values, color='black', label='Actual')\n",
        "plt.plot(predictions, color='red', label='Prediction')\n",
        "plt.title('RNG Price vs Predicted Price')\n",
        "plt.legend()\n",
        "plt.show()"
      ],
      "execution_count": 0,
      "outputs": [
        {
          "output_type": "display_data",
          "data": {
            "image/png": "[encoded data removed]",
            "text/plain": [
              "<Figure size 720x432 with 1 Axes>"
            ]
          },
          "metadata": {
            "tags": []
          }
        }
      ]
    }
  ]
}